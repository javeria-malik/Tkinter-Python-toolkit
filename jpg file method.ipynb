{
 "cells": [
  {
   "cell_type": "code",
   "execution_count": 13,
   "id": "1265b1d3",
   "metadata": {},
   "outputs": [],
   "source": [
    "from tkinter import *"
   ]
  },
  {
   "cell_type": "code",
   "execution_count": 14,
   "id": "f0376230",
   "metadata": {},
   "outputs": [
    {
     "name": "stdout",
     "output_type": "stream",
     "text": [
      "Requirement already satisfied: Pillow in c:\\users\\hp\\appdata\\roaming\\python\\python311\\site-packages (9.5.0)Note: you may need to restart the kernel to use updated packages.\n",
      "\n"
     ]
    }
   ],
   "source": [
    "pip install Pillow "
   ]
  },
  {
   "cell_type": "code",
   "execution_count": 16,
   "id": "f98ca59a",
   "metadata": {},
   "outputs": [],
   "source": [
    "from PIL import Image, ImageTk\n"
   ]
  },
  {
   "cell_type": "code",
   "execution_count": 17,
   "id": "62316352",
   "metadata": {},
   "outputs": [],
   "source": [
    "Jm_root=Tk()"
   ]
  },
  {
   "cell_type": "code",
   "execution_count": 18,
   "id": "c6562f03",
   "metadata": {},
   "outputs": [
    {
     "data": {
      "text/plain": [
       "''"
      ]
     },
     "execution_count": 18,
     "metadata": {},
     "output_type": "execute_result"
    }
   ],
   "source": [
    "Jm_root.geometry(\"600x600\")"
   ]
  },
  {
   "cell_type": "code",
   "execution_count": 20,
   "id": "fe013da6",
   "metadata": {},
   "outputs": [],
   "source": [
    "# for jpg file\n",
    "image=Image.open(\"C:\\\\Users\\\\HP\\\\Pictures\\\\logo.jpg\")"
   ]
  },
  {
   "cell_type": "code",
   "execution_count": 21,
   "id": "67c370fb",
   "metadata": {},
   "outputs": [],
   "source": [
    "photo=ImageTk.PhotoImage(image)"
   ]
  },
  {
   "cell_type": "code",
   "execution_count": 22,
   "id": "ff8d8fc1",
   "metadata": {},
   "outputs": [],
   "source": [
    "jm_label=Label(image=photo)"
   ]
  },
  {
   "cell_type": "code",
   "execution_count": 23,
   "id": "deb9b915",
   "metadata": {},
   "outputs": [],
   "source": [
    "jm_label.pack()"
   ]
  },
  {
   "cell_type": "code",
   "execution_count": null,
   "id": "a9d3d9fb",
   "metadata": {},
   "outputs": [],
   "source": [
    "Jm_root.mainloop()"
   ]
  },
  {
   "cell_type": "code",
   "execution_count": null,
   "id": "20727ead",
   "metadata": {},
   "outputs": [],
   "source": []
  }
 ],
 "metadata": {
  "kernelspec": {
   "display_name": "Python 3 (ipykernel)",
   "language": "python",
   "name": "python3"
  },
  "language_info": {
   "codemirror_mode": {
    "name": "ipython",
    "version": 3
   },
   "file_extension": ".py",
   "mimetype": "text/x-python",
   "name": "python",
   "nbconvert_exporter": "python",
   "pygments_lexer": "ipython3",
   "version": "3.11.4"
  }
 },
 "nbformat": 4,
 "nbformat_minor": 5
}
