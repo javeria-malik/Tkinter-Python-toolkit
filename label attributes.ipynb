{
 "cells": [
  {
   "cell_type": "code",
   "execution_count": 19,
   "id": "38eb1661",
   "metadata": {},
   "outputs": [],
   "source": [
    "from tkinter import *"
   ]
  },
  {
   "cell_type": "code",
   "execution_count": 20,
   "id": "479733f4",
   "metadata": {},
   "outputs": [],
   "source": [
    "root =Tk()"
   ]
  },
  {
   "cell_type": "code",
   "execution_count": 21,
   "id": "f8a5c683",
   "metadata": {},
   "outputs": [
    {
     "data": {
      "text/plain": [
       "''"
      ]
     },
     "execution_count": 21,
     "metadata": {},
     "output_type": "execute_result"
    }
   ],
   "source": [
    "root.geometry(\"444x243\")"
   ]
  },
  {
   "cell_type": "code",
   "execution_count": 22,
   "id": "680e7419",
   "metadata": {},
   "outputs": [
    {
     "data": {
      "text/plain": [
       "''"
      ]
     },
     "execution_count": 22,
     "metadata": {},
     "output_type": "execute_result"
    }
   ],
   "source": [
    "root.title(\"Labelling Attributes\")#title is very imp "
   ]
  },
  {
   "cell_type": "code",
   "execution_count": 41,
   "id": "4e0658d9",
   "metadata": {},
   "outputs": [
    {
     "data": {
      "text/plain": [
       "'text=add the txt\\nbd=background\\nfg=foreground\\nfont=sets the font\\npadx=x padding\\npady=y padding\\nreleif=border styling(SUNKEN , RAISED,GROOVE,RIDGE'"
      ]
     },
     "execution_count": 41,
     "metadata": {},
     "output_type": "execute_result"
    }
   ],
   "source": [
    "# important labell option \n",
    "\"\"\"text=add the txt\n",
    "bd=background\n",
    "fg=foreground\n",
    "font=sets the font\n",
    "padx=x padding\n",
    "pady=y padding\n",
    "releif=border styling(SUNKEN , RAISED,GROOVE,RIDGE\"\"\""
   ]
  },
  {
   "cell_type": "code",
   "execution_count": 42,
   "id": "e7cee8c2",
   "metadata": {},
   "outputs": [],
   "source": [
    "title_label=Label(text=\"What’s happening in Canada? International observers may understandably be confused by \\nrecent events in a country better known for maple syrup and good behaviour./n For nearly three weeks, large commercial trucks have blocked streets in downtown \\nOttawa in front of Canada’s Parliament buildings, honking their horns and harassing downtown residents.\",bg=\"red\",fg=\"white\",padx=23,pady=30,font=(\"comicsansms\",9,\"bold\"),borderwidth=3)"
   ]
  },
  {
   "cell_type": "code",
   "execution_count": 43,
   "id": "79da2817",
   "metadata": {},
   "outputs": [],
   "source": [
    "title_label.pack()"
   ]
  },
  {
   "cell_type": "code",
   "execution_count": 44,
   "id": "cdb33826",
   "metadata": {},
   "outputs": [],
   "source": [
    "# fontsize method \n",
    "#give a tuple first give the type of font ehich you want to use and the other s the fomt size which you will add"
   ]
  },
  {
   "cell_type": "code",
   "execution_count": 45,
   "id": "c93198a0",
   "metadata": {},
   "outputs": [
    {
     "data": {
      "text/plain": [
       "'title_label=Label(text=\"What’s happening in Canada? International observers may understandably be confused by \\nrecent events in a country better known for maple syrup and good behaviour./n For nearly three weeks, large commercial trucks have blocked streets in downtown \\nOttawa in front of Canada’s Parliament buildings, honking their horns and harassing downtown residents.\",bg=\"red\",fg=\"white\",padx=23,pady=30,font=\"comicsansms\",9,\"bold\")'"
      ]
     },
     "execution_count": 45,
     "metadata": {},
     "output_type": "execute_result"
    }
   ],
   "source": [
    "#can also give in string form \n",
    "\"\"\"title_label=Label(text=\"What’s happening in Canada? International observers may understandably be confused by \\nrecent events in a country better known for maple syrup and good behaviour./n For nearly three weeks, large commercial trucks have blocked streets in downtown \\nOttawa in front of Canada’s Parliament buildings, honking their horns and harassing downtown residents.\",bg=\"red\",fg=\"white\",padx=23,pady=30,font=\"comicsansms\",9,\"bold\",releif=SUNKEN)\"\"\""
   ]
  },
  {
   "cell_type": "code",
   "execution_count": null,
   "id": "fd120d74",
   "metadata": {},
   "outputs": [],
   "source": []
  },
  {
   "cell_type": "code",
   "execution_count": null,
   "id": "8dc4f7ab",
   "metadata": {},
   "outputs": [],
   "source": []
  },
  {
   "cell_type": "code",
   "execution_count": null,
   "id": "1877a9ae",
   "metadata": {},
   "outputs": [],
   "source": []
  },
  {
   "cell_type": "code",
   "execution_count": null,
   "id": "8c596618",
   "metadata": {},
   "outputs": [],
   "source": []
  },
  {
   "cell_type": "code",
   "execution_count": null,
   "id": "f191db97",
   "metadata": {},
   "outputs": [],
   "source": []
  },
  {
   "cell_type": "code",
   "execution_count": 46,
   "id": "18813322",
   "metadata": {},
   "outputs": [],
   "source": [
    "root.mainloop()"
   ]
  },
  {
   "cell_type": "code",
   "execution_count": null,
   "id": "ac98c455",
   "metadata": {},
   "outputs": [],
   "source": []
  }
 ],
 "metadata": {
  "kernelspec": {
   "display_name": "Python 3 (ipykernel)",
   "language": "python",
   "name": "python3"
  },
  "language_info": {
   "codemirror_mode": {
    "name": "ipython",
    "version": 3
   },
   "file_extension": ".py",
   "mimetype": "text/x-python",
   "name": "python",
   "nbconvert_exporter": "python",
   "pygments_lexer": "ipython3",
   "version": "3.11.4"
  }
 },
 "nbformat": 4,
 "nbformat_minor": 5
}
