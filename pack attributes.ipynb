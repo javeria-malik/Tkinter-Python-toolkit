{
 "cells": [
  {
   "cell_type": "code",
   "execution_count": 83,
   "id": "ad31ab4f",
   "metadata": {},
   "outputs": [],
   "source": [
    "from tkinter import *"
   ]
  },
  {
   "cell_type": "code",
   "execution_count": 84,
   "id": "93d37e36",
   "metadata": {},
   "outputs": [],
   "source": [
    "root =Tk()"
   ]
  },
  {
   "cell_type": "code",
   "execution_count": 85,
   "id": "5c93c064",
   "metadata": {},
   "outputs": [
    {
     "data": {
      "text/plain": [
       "''"
      ]
     },
     "execution_count": 85,
     "metadata": {},
     "output_type": "execute_result"
    }
   ],
   "source": [
    "root.geometry(\"444x243\")"
   ]
  },
  {
   "cell_type": "code",
   "execution_count": 86,
   "id": "4eb3562c",
   "metadata": {},
   "outputs": [
    {
     "data": {
      "text/plain": [
       "''"
      ]
     },
     "execution_count": 86,
     "metadata": {},
     "output_type": "execute_result"
    }
   ],
   "source": [
    "root.title(\"pack Attributes\")#title is very imp "
   ]
  },
  {
   "cell_type": "code",
   "execution_count": 87,
   "id": "d5a142fd",
   "metadata": {},
   "outputs": [
    {
     "data": {
      "text/plain": [
       "'\\nanchor=\\n'"
      ]
     },
     "execution_count": 87,
     "metadata": {},
     "output_type": "execute_result"
    }
   ],
   "source": [
    "#important pack points \n",
    "\"\"\"\n",
    "anchor=\n",
    "\"\"\""
   ]
  },
  {
   "cell_type": "code",
   "execution_count": 88,
   "id": "f05a9bc2",
   "metadata": {},
   "outputs": [],
   "source": [
    "title_pack=Label(text=\"\"\"What’s happening in Canada? International observers may understandably be confused by \\nrecent events in a country better known for maple syrup and good behaviour./n For nearly \n",
    "three weeks, large commercial trucks have blocked streets in downtown \\nOttawa in front of Canada’s Parliament buildings, honking their horns and harassing downtown residents.\"\"\"\n",
    "            ,bg=\"red\",fg=\"white\",padx=23,pady=30,font=(\"comicsansms\",9,\"bold\"),borderwidth=3)"
   ]
  },
  {
   "cell_type": "code",
   "execution_count": 89,
   "id": "c305a001",
   "metadata": {},
   "outputs": [],
   "source": [
    "#title_pack.pack(anchor=\"nw\")"
   ]
  },
  {
   "cell_type": "code",
   "execution_count": 90,
   "id": "1aed037f",
   "metadata": {},
   "outputs": [],
   "source": [
    "#title_pack.pack(side=BOTTOM,anchor=\"sw\",fill=\"x\")"
   ]
  },
  {
   "cell_type": "code",
   "execution_count": 91,
   "id": "bf1d9c33",
   "metadata": {},
   "outputs": [],
   "source": [
    "title_pack.pack(side=LEFT,anchor=\"sw\",fill=\"x\",padx=23,pady=30)"
   ]
  },
  {
   "cell_type": "code",
   "execution_count": 92,
   "id": "332d5a5d",
   "metadata": {},
   "outputs": [],
   "source": [
    "#for the pack in lower side write \n",
    "#title_pack.pack( side =\"BOTTOM\", anchor=\"nw\")"
   ]
  },
  {
   "cell_type": "code",
   "execution_count": 93,
   "id": "81261223",
   "metadata": {},
   "outputs": [],
   "source": [
    "root.mainloop()"
   ]
  },
  {
   "cell_type": "code",
   "execution_count": null,
   "id": "b34bfdcd",
   "metadata": {},
   "outputs": [],
   "source": []
  }
 ],
 "metadata": {
  "kernelspec": {
   "display_name": "Python 3 (ipykernel)",
   "language": "python",
   "name": "python3"
  },
  "language_info": {
   "codemirror_mode": {
    "name": "ipython",
    "version": 3
   },
   "file_extension": ".py",
   "mimetype": "text/x-python",
   "name": "python",
   "nbconvert_exporter": "python",
   "pygments_lexer": "ipython3",
   "version": "3.11.4"
  }
 },
 "nbformat": 4,
 "nbformat_minor": 5
}
