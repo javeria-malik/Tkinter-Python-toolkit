{
 "cells": [
  {
   "cell_type": "code",
   "execution_count": 32,
   "id": "2a1a270d",
   "metadata": {},
   "outputs": [],
   "source": [
    "from tkinter import *"
   ]
  },
  {
   "cell_type": "code",
   "execution_count": 33,
   "id": "a95ec701",
   "metadata": {},
   "outputs": [],
   "source": [
    "cal_root=Tk()"
   ]
  },
  {
   "cell_type": "code",
   "execution_count": 34,
   "id": "7ff25323",
   "metadata": {},
   "outputs": [],
   "source": [
    "#use width or geometery\n",
    "#widthxheight"
   ]
  },
  {
   "cell_type": "code",
   "execution_count": 35,
   "id": "e640b1bf",
   "metadata": {},
   "outputs": [
    {
     "data": {
      "text/plain": [
       "''"
      ]
     },
     "execution_count": 35,
     "metadata": {},
     "output_type": "execute_result"
    }
   ],
   "source": [
    "cal_root.geometry(\"644x300\")"
   ]
  },
  {
   "cell_type": "code",
   "execution_count": 36,
   "id": "83c53c2c",
   "metadata": {},
   "outputs": [],
   "source": [
    "cal_root.minsize(200,150)"
   ]
  },
  {
   "cell_type": "code",
   "execution_count": 37,
   "id": "19f1d0fb",
   "metadata": {},
   "outputs": [],
   "source": [
    "cal_root.maxsize(800,900)"
   ]
  },
  {
   "cell_type": "code",
   "execution_count": 38,
   "id": "11aa5498",
   "metadata": {},
   "outputs": [],
   "source": [
    "# gui logic here"
   ]
  },
  {
   "cell_type": "code",
   "execution_count": 41,
   "id": "847a93c6",
   "metadata": {},
   "outputs": [],
   "source": [
    "lab=Label(text=\"This is the basic GUI for Calculator\")"
   ]
  },
  {
   "cell_type": "code",
   "execution_count": 42,
   "id": "68a11d3a",
   "metadata": {},
   "outputs": [],
   "source": [
    "lab.pack()"
   ]
  },
  {
   "cell_type": "code",
   "execution_count": 43,
   "id": "699b47c8",
   "metadata": {},
   "outputs": [],
   "source": [
    "cal_root.mainloop()# make the framework of gui"
   ]
  },
  {
   "cell_type": "code",
   "execution_count": null,
   "id": "ded3b6f3",
   "metadata": {},
   "outputs": [],
   "source": [
    "#widges attribute"
   ]
  },
  {
   "cell_type": "code",
   "execution_count": null,
   "id": "c83e9c8c",
   "metadata": {},
   "outputs": [],
   "source": [
    "#first simple gui"
   ]
  },
  {
   "cell_type": "code",
   "execution_count": null,
   "id": "2a578cbe",
   "metadata": {},
   "outputs": [],
   "source": [
    "#how to form labell"
   ]
  },
  {
   "cell_type": "code",
   "execution_count": null,
   "id": "0b35b567",
   "metadata": {},
   "outputs": [],
   "source": []
  }
 ],
 "metadata": {
  "kernelspec": {
   "display_name": "Python 3 (ipykernel)",
   "language": "python",
   "name": "python3"
  },
  "language_info": {
   "codemirror_mode": {
    "name": "ipython",
    "version": 3
   },
   "file_extension": ".py",
   "mimetype": "text/x-python",
   "name": "python",
   "nbconvert_exporter": "python",
   "pygments_lexer": "ipython3",
   "version": "3.11.4"
  }
 },
 "nbformat": 4,
 "nbformat_minor": 5
}
